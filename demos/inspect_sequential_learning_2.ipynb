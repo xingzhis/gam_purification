{
 "cells": [
  {
   "cell_type": "markdown",
   "id": "6ea60e5f",
   "metadata": {},
   "source": [
    "![alt text](example2.jpeg \"Title\")"
   ]
  },
  {
   "cell_type": "code",
   "execution_count": 1,
   "id": "c13dc3ed",
   "metadata": {},
   "outputs": [],
   "source": [
    "import numpy as np\n",
    "\n",
    "X = []\n",
    "vals = [0,1]\n",
    "for i in vals:\n",
    "    for j in vals:\n",
    "        for k in vals:\n",
    "            X.append([i, j, k])\n",
    "X.append([vals[0], vals[0], vals[0]])\n",
    "X.append([vals[1], vals[1], vals[1]])\n",
    "X.append([vals[1], vals[1], vals[1]])    \n",
    "X = np.array(X)\n",
    "\n",
    "Y3 = -6 * (1 - X[:, 2]) + 5 * (X[:, 2])\n",
    "Y12 = 4 * (1 - X[:, 0]) * (1 - X[:, 1]) - 6 * X[:, 0] * (1 - X[:, 1]) \\\n",
    "    - 6 * (1 - X[:, 0]) * X[:, 1] + 3 * X[:, 0] * X[:, 1]\n",
    "Y = Y3 + Y12"
   ]
  },
  {
   "cell_type": "code",
   "execution_count": 2,
   "id": "9974f48d",
   "metadata": {},
   "outputs": [
    {
     "data": {
      "text/plain": [
       "1.0"
      ]
     },
     "execution_count": 2,
     "metadata": {},
     "output_type": "execute_result"
    }
   ],
   "source": [
    "(Y3 * Y12).mean()"
   ]
  },
  {
   "cell_type": "markdown",
   "id": "a720a6a9",
   "metadata": {},
   "source": [
    "## Fit intercept."
   ]
  },
  {
   "cell_type": "code",
   "execution_count": 3,
   "id": "b48f2cbc",
   "metadata": {},
   "outputs": [
    {
     "data": {
      "text/plain": [
       "0.0"
      ]
     },
     "execution_count": 3,
     "metadata": {},
     "output_type": "execute_result"
    }
   ],
   "source": [
    "f0 = np.mean(Y)\n",
    "residual = Y - f0\n",
    "f0"
   ]
  },
  {
   "cell_type": "markdown",
   "id": "111df342",
   "metadata": {},
   "source": [
    "## Fit mains."
   ]
  },
  {
   "cell_type": "code",
   "execution_count": 4,
   "id": "d9af8bc1",
   "metadata": {},
   "outputs": [],
   "source": [
    "def fit_main(residual, idx):\n",
    "    f = np.array([np.mean(residual[X[:, idx] == vals[i]]) for i in range(len(vals))])\n",
    "    f_preds = [f[vals.index(x)] for x in X[:, idx]]\n",
    "    residual = residual - f_preds\n",
    "    return f, f_preds, residual\n",
    "\n",
    "# Iterative algorithm, set the tolerance here.\n",
    "# Smaller tolerance values result in smaller errors.\n",
    "tol = 1e-10\n",
    "\n",
    "updates = np.inf\n",
    "residual = Y - f0\n",
    "residual_prev = residual\n",
    "f1, f1_preds, residual = fit_main(residual, 0)\n",
    "f2, f2_preds, residual = fit_main(residual, 1)\n",
    "f3, f3_preds, residual = fit_main(residual, 2)\n",
    "while updates > tol:\n",
    "    f1_new, f1_preds_new, residual = fit_main(residual, 0)\n",
    "    f2_new, f2_preds_new, residual = fit_main(residual, 1)\n",
    "    f3_new, f3_preds_new, residual = fit_main(residual, 2)\n",
    "    updates = np.sum(np.abs(f1_preds_new)) + np.sum(np.abs(f2_preds_new)) + np.sum(np.abs(f3_preds_new))\n",
    "    f1_preds += f1_preds_new\n",
    "    f2_preds += f2_preds_new\n",
    "    f3_preds += f3_preds_new\n",
    "    f1 += f1_new\n",
    "    f2 += f2_new\n",
    "    f3 += f3_new"
   ]
  },
  {
   "cell_type": "code",
   "execution_count": 5,
   "id": "03430ea9",
   "metadata": {
    "scrolled": true
   },
   "outputs": [
    {
     "data": {
      "text/plain": [
       "array([ 0.04743083, -0.03952569])"
      ]
     },
     "execution_count": 5,
     "metadata": {},
     "output_type": "execute_result"
    }
   ],
   "source": [
    "f1"
   ]
  },
  {
   "cell_type": "code",
   "execution_count": 6,
   "id": "1b826130",
   "metadata": {},
   "outputs": [
    {
     "data": {
      "text/plain": [
       "array([ 0.04743083, -0.03952569])"
      ]
     },
     "execution_count": 6,
     "metadata": {},
     "output_type": "execute_result"
    }
   ],
   "source": [
    "f2"
   ]
  },
  {
   "cell_type": "code",
   "execution_count": 7,
   "id": "a2c3b39c",
   "metadata": {},
   "outputs": [
    {
     "data": {
      "text/plain": [
       "array([-6.22529644,  5.18774704])"
      ]
     },
     "execution_count": 7,
     "metadata": {},
     "output_type": "execute_result"
    }
   ],
   "source": [
    "f3"
   ]
  },
  {
   "cell_type": "markdown",
   "id": "f2bb4890",
   "metadata": {},
   "source": [
    "## Fit pairs."
   ]
  },
  {
   "cell_type": "markdown",
   "id": "dde5283f",
   "metadata": {},
   "source": [
    "In our context, we restrict the pairwise functions to be *pure*, so this backfitting scheme does not represent the scenario, as it learns any pairwise functions regardless of pureness."
   ]
  },
  {
   "cell_type": "code",
   "execution_count": 8,
   "id": "3381318d",
   "metadata": {},
   "outputs": [],
   "source": [
    "# def fit_pair(residual, idx1, idx2):\n",
    "#     f = np.array(\n",
    "#         [[np.mean(residual[np.logical_and(X[:, idx1] == vals[i], X[:, idx2] == vals[j])]) for j in range(len(vals))] for i in range(len(vals))]\n",
    "#     )\n",
    "#     f_preds = [f[vals.index(xi), vals.index(xj)] for (xi, xj) in X[:, [idx1, idx2]]]\n",
    "#     residual = residual - f_preds\n",
    "#     return f, f_preds, residual\n",
    "\n",
    "# updates = np.inf\n",
    "# residual_prev = residual\n",
    "# f12, f12_preds, residual = fit_pair(residual, 0, 1)\n",
    "# f13, f13_preds, residual = fit_pair(residual, 0, 2)\n",
    "# f23, f23_preds, residual = fit_pair(residual, 1, 2)\n",
    "# while updates > tol:\n",
    "#     f12_new, f12_preds_new, residual = fit_pair(residual, 0, 1)\n",
    "#     f13_new, f13_preds_new, residual = fit_pair(residual, 0, 2)\n",
    "#     f23_new, f23_preds_new, residual = fit_pair(residual, 1, 2)\n",
    "#     updates = np.sum(np.abs(f12_preds_new)) + np.sum(np.abs(f13_preds_new)) + np.sum(np.abs(f23_preds_new))\n",
    "#     f12_preds += f12_preds_new\n",
    "#     f13_preds += f13_preds_new\n",
    "#     f23_preds += f23_preds_new\n",
    "#     f12 += f12_new\n",
    "#     f13 += f13_new\n",
    "#     f23 += f23_new"
   ]
  },
  {
   "cell_type": "markdown",
   "id": "f4f37ad9",
   "metadata": {},
   "source": [
    "We use pure coding to implement sequential learning.\n",
    "$$\n",
    "\\begin{pmatrix}4&-6\\\\-6&3\\end{pmatrix}\n",
    "$$\n",
    "Forms a basis of 1-dimensional space of pure functions on $(x_1, x_2)$, and also $(x_1, x_3)$ and $(x_2, x_3)$ by symmetry. In order to learn $f_{12}, f_{13}, f_{23}\\in\\mathcal H_2$ (pure pairwise functions), they must be a linear mutiple of these basis vectors respectively."
   ]
  },
  {
   "cell_type": "code",
   "execution_count": 9,
   "id": "b23968ae",
   "metadata": {},
   "outputs": [],
   "source": [
    "b12 = 4 * (1 - X[:, 0]) * (1 - X[:, 1]) - 6 * X[:, 0] * (1 - X[:, 1]) \\\n",
    "    - 6 * (1 - X[:, 0]) * X[:, 1] + 3 * X[:, 0] * X[:, 1]\n",
    "b13 = 4 * (1 - X[:, 0]) * (1 - X[:, 2]) - 6 * X[:, 0] * (1 - X[:, 2]) \\\n",
    "    - 6 * (1 - X[:, 0]) * X[:, 2] + 3 * X[:, 0] * X[:, 2]\n",
    "b23 = 4 * (1 - X[:, 1]) * (1 - X[:, 2]) - 6 * X[:, 1] * (1 - X[:, 2]) \\\n",
    "    - 6 * (1 - X[:, 1]) * X[:, 2] + 3 * X[:, 1] * X[:, 2]"
   ]
  },
  {
   "cell_type": "code",
   "execution_count": 10,
   "id": "a5542bd0",
   "metadata": {},
   "outputs": [],
   "source": [
    "residual = residual_prev"
   ]
  },
  {
   "cell_type": "code",
   "execution_count": 11,
   "id": "fe44e7b5",
   "metadata": {},
   "outputs": [
    {
     "data": {
      "text/plain": [
       "array([ -2.,   9., -12.,  -1., -12.,  -1.,  -3.,   8.,  -2.,   8.,   8.])"
      ]
     },
     "execution_count": 11,
     "metadata": {},
     "output_type": "execute_result"
    }
   ],
   "source": [
    "residual"
   ]
  },
  {
   "cell_type": "code",
   "execution_count": 12,
   "id": "6025e3f3",
   "metadata": {},
   "outputs": [],
   "source": [
    "M = np.c_[b12, b13, b23]\n",
    "c = np.linalg.inv(M.T @ M) @ M.T @ residual.reshape(-1, 1)"
   ]
  },
  {
   "cell_type": "code",
   "execution_count": 13,
   "id": "23ca121c",
   "metadata": {},
   "outputs": [],
   "source": [
    "residual = residual - (M @ c).flatten()"
   ]
  },
  {
   "cell_type": "code",
   "execution_count": 14,
   "id": "76c8b0de",
   "metadata": {},
   "outputs": [],
   "source": [
    "f12 = c[0] * np.array([[4, -6], [-6, 3]])\n",
    "f13 = c[1] * np.array([[4, -6], [-6, 3]])\n",
    "f23 = c[2] * np.array([[4, -6], [-6, 3]])"
   ]
  },
  {
   "cell_type": "markdown",
   "id": "0c7590cd",
   "metadata": {},
   "source": [
    "## Evaluate the residual."
   ]
  },
  {
   "cell_type": "code",
   "execution_count": 15,
   "id": "412f1992",
   "metadata": {},
   "outputs": [
    {
     "name": "stdout",
     "output_type": "stream",
     "text": [
      "[-6.13664596  4.68594077 -5.70632442  5.28480491 -5.70632442  5.28480491\n",
      " -6.26215641  4.89751553 -6.13664596  4.89751553  4.89751553]\n"
     ]
    },
    {
     "ename": "AssertionError",
     "evalue": "",
     "output_type": "error",
     "traceback": [
      "\u001b[0;31m---------------------------------------------------------------------------\u001b[0m",
      "\u001b[0;31mAssertionError\u001b[0m                            Traceback (most recent call last)",
      "Input \u001b[0;32mIn [15]\u001b[0m, in \u001b[0;36m<cell line: 4>\u001b[0;34m()\u001b[0m\n\u001b[1;32m      1\u001b[0m errors \u001b[38;5;241m=\u001b[39m residual\n\u001b[1;32m      2\u001b[0m \u001b[38;5;28mprint\u001b[39m(errors)\n\u001b[0;32m----> 4\u001b[0m \u001b[38;5;28;01massert\u001b[39;00m np\u001b[38;5;241m.\u001b[39mmax(np\u001b[38;5;241m.\u001b[39mabs(errors)) \u001b[38;5;241m<\u001b[39m tol\n\u001b[1;32m      5\u001b[0m \u001b[38;5;28mprint\u001b[39m(\u001b[38;5;124m\"\u001b[39m\u001b[38;5;124mAssertion Passed: All errors are smaller than tolerance, which was set to: \u001b[39m\u001b[38;5;132;01m{}\u001b[39;00m\u001b[38;5;124m\"\u001b[39m\u001b[38;5;241m.\u001b[39mformat(tol))\n",
      "\u001b[0;31mAssertionError\u001b[0m: "
     ]
    }
   ],
   "source": [
    "errors = residual\n",
    "print(errors)\n",
    "\n",
    "assert np.max(np.abs(errors)) < tol\n",
    "print(\"Assertion Passed: All errors are smaller than tolerance, which was set to: {}\".format(tol))"
   ]
  },
  {
   "cell_type": "code",
   "execution_count": 16,
   "id": "16dd508b",
   "metadata": {},
   "outputs": [
    {
     "name": "stdout",
     "output_type": "stream",
     "text": [
      "Learned functions:\n",
      "f0 0.0\n",
      "f1 [ 0.04743083 -0.03952569]\n",
      "f2 [ 0.04743083 -0.03952569]\n",
      "f3 [-6.22529644  5.18774704]\n",
      "f12 [[ 4.20761127 -6.3114169 ]\n",
      " [-6.3114169   3.15570845]]\n",
      "f13 [[-0.03548265  0.05322398]\n",
      " [ 0.05322398 -0.02661199]]\n",
      "f23 [[-0.03548265  0.05322398]\n",
      " [ 0.05322398 -0.02661199]]\n"
     ]
    }
   ],
   "source": [
    "print(\"Learned functions:\")\n",
    "print(\"f0\", f0)\n",
    "print(\"f1\", f1)\n",
    "print(\"f2\", f2)\n",
    "print(\"f3\", f3)\n",
    "print(\"f12\", f12)\n",
    "print(\"f13\", f13)\n",
    "print(\"f23\", f23)"
   ]
  },
  {
   "cell_type": "code",
   "execution_count": 17,
   "id": "3aacefd1",
   "metadata": {},
   "outputs": [
    {
     "name": "stdout",
     "output_type": "stream",
     "text": [
      "True pure function:\n",
      "f0 0\n",
      "f1 [0, 0]\n",
      "f2 [0, 0]\n",
      "f3 [-6, 5]\n",
      "f12 [[4, -6],\n",
      " [-6, 3]]\n",
      "f13 [[0, 0],\n",
      " [0, 0]]\n",
      "f23 [[0, 0],\n",
      " [0, 0]]\n",
      "\n"
     ]
    }
   ],
   "source": [
    "print('\\\n",
    "True pure function:\\n\\\n",
    "f0 0\\n\\\n",
    "f1 [0, 0]\\n\\\n",
    "f2 [0, 0]\\n\\\n",
    "f3 [-6, 5]\\n\\\n",
    "f12 [[4, -6],\\n\\\n",
    " [-6, 3]]\\n\\\n",
    "f13 [[0, 0],\\n\\\n",
    " [0, 0]]\\n\\\n",
    "f23 [[0, 0],\\n\\\n",
    " [0, 0]]\\n\\\n",
    "')"
   ]
  },
  {
   "cell_type": "markdown",
   "id": "c6b99122",
   "metadata": {},
   "source": [
    "# Joint Learning\n",
    "First, we show that learning the main with backfitting should learn the same results as using pure coding for main effects."
   ]
  },
  {
   "cell_type": "code",
   "execution_count": 18,
   "id": "5bc05edc",
   "metadata": {},
   "outputs": [],
   "source": [
    "b1 = -6 * (1 - X[:, 0]) + 5 * X[:, 0]\n",
    "b2 = -6 * (1 - X[:, 1]) + 5 * X[:, 1]\n",
    "b3 = -6 * (1 - X[:, 2]) + 5 * X[:, 2]"
   ]
  },
  {
   "cell_type": "code",
   "execution_count": 19,
   "id": "8a97bd27",
   "metadata": {},
   "outputs": [],
   "source": [
    "Mm = np.c_[b1, b2, b3]\n",
    "cm = np.linalg.inv(Mm.T @ Mm) @ Mm.T @ Y"
   ]
  },
  {
   "cell_type": "code",
   "execution_count": 20,
   "id": "302933cb",
   "metadata": {},
   "outputs": [],
   "source": [
    "f1_ = cm[0] * np.array([-6, 5])\n",
    "f2_ = cm[1] * np.array([-6, 5])\n",
    "f3_ = cm[2] * np.array([-6, 5])"
   ]
  },
  {
   "cell_type": "code",
   "execution_count": 21,
   "id": "ab0533a7",
   "metadata": {},
   "outputs": [
    {
     "name": "stdout",
     "output_type": "stream",
     "text": [
      "f1=[ 0.04743083 -0.03952569],f1_=[ 0.04743083 -0.03952569]\n",
      "f2=[ 0.04743083 -0.03952569],f2_=[ 0.04743083 -0.03952569]\n",
      "f3=[-6.22529644  5.18774704],f3_=[-6.22529644  5.18774704]\n"
     ]
    }
   ],
   "source": [
    "print('f1={},f1_={}'.format(f1, f1_))\n",
    "print('f2={},f2_={}'.format(f2, f2_))\n",
    "print('f3={},f3_={}'.format(f3, f3_))"
   ]
  },
  {
   "cell_type": "markdown",
   "id": "3305c63a",
   "metadata": {},
   "source": [
    "Now we do Joint learning with pure coding."
   ]
  },
  {
   "cell_type": "code",
   "execution_count": 22,
   "id": "e7f4610b",
   "metadata": {},
   "outputs": [],
   "source": [
    "b12 = 4 * (1 - X[:, 0]) * (1 - X[:, 1]) - 6 * X[:, 0] * (1 - X[:, 1]) \\\n",
    "    - 6 * (1 - X[:, 0]) * X[:, 1] + 3 * X[:, 0] * X[:, 1]\n",
    "b13 = 4 * (1 - X[:, 0]) * (1 - X[:, 2]) - 6 * X[:, 0] * (1 - X[:, 2]) \\\n",
    "    - 6 * (1 - X[:, 0]) * X[:, 2] + 3 * X[:, 0] * X[:, 2]\n",
    "b23 = 4 * (1 - X[:, 1]) * (1 - X[:, 2]) - 6 * X[:, 1] * (1 - X[:, 2]) \\\n",
    "    - 6 * (1 - X[:, 1]) * X[:, 2] + 3 * X[:, 1] * X[:, 2]"
   ]
  },
  {
   "cell_type": "code",
   "execution_count": 23,
   "id": "f709292a",
   "metadata": {},
   "outputs": [],
   "source": [
    "Ma = np.c_[b1, b2, b3, b12, b13, b23]\n",
    "ca = np.linalg.inv(Ma.T @ Ma) @ Ma.T @ Y"
   ]
  },
  {
   "cell_type": "code",
   "execution_count": 24,
   "id": "2a2bc818",
   "metadata": {},
   "outputs": [],
   "source": [
    "residuala = Y - Ma @ ca"
   ]
  },
  {
   "cell_type": "code",
   "execution_count": 25,
   "id": "588ffdba",
   "metadata": {},
   "outputs": [
    {
     "name": "stdout",
     "output_type": "stream",
     "text": [
      "[ 0.00000000e+00  3.55271368e-15 -3.55271368e-15  6.66133815e-16\n",
      " -3.55271368e-15 -3.33066907e-16 -2.66453526e-15  8.88178420e-16\n",
      "  0.00000000e+00  8.88178420e-16  8.88178420e-16]\n",
      "Assertion Passed: All errors are smaller than tolerance, which was set to: 1e-10\n"
     ]
    }
   ],
   "source": [
    "errors = residuala\n",
    "print(errors)\n",
    "\n",
    "assert np.max(np.abs(errors)) < tol\n",
    "print(\"Assertion Passed: All errors are smaller than tolerance, which was set to: {}\".format(tol))"
   ]
  },
  {
   "cell_type": "code",
   "execution_count": 26,
   "id": "670e9cb1",
   "metadata": {},
   "outputs": [],
   "source": [
    "f1_ = ca[0] * np.array([-6, 5])\n",
    "f2_ = ca[1] * np.array([-6, 5])\n",
    "f3_ = ca[2] * np.array([-6, 5])\n",
    "f12_ = ca[3] * np.array([[4, -6], [-6, 3]])\n",
    "f13_ = ca[4] * np.array([[4, -6], [-6, 3]])\n",
    "f23_ = ca[5] * np.array([[4, -6], [-6, 3]])"
   ]
  },
  {
   "cell_type": "code",
   "execution_count": 27,
   "id": "a25bcf91",
   "metadata": {},
   "outputs": [
    {
     "name": "stdout",
     "output_type": "stream",
     "text": [
      "Learned functions:\n",
      "f0 0.0\n",
      "f1 [-9.99200722e-16  8.32667268e-16]\n",
      "f2 [-4.99600361e-16  4.16333634e-16]\n",
      "f3 [-6.  5.]\n",
      "f12 [[ 4. -6.]\n",
      " [-6.  3.]]\n",
      "f13 [[ 0. -0.]\n",
      " [-0.  0.]]\n",
      "f23 [[ 0. -0.]\n",
      " [-0.  0.]]\n"
     ]
    }
   ],
   "source": [
    "print(\"Learned functions:\")\n",
    "print(\"f0\", f0)\n",
    "print(\"f1\", f1_)\n",
    "print(\"f2\", f2_)\n",
    "print(\"f3\", f3_)\n",
    "print(\"f12\", f12_)\n",
    "print(\"f13\", f13_)\n",
    "print(\"f23\", f23_)"
   ]
  },
  {
   "cell_type": "code",
   "execution_count": null,
   "id": "b32879e7",
   "metadata": {},
   "outputs": [],
   "source": []
  }
 ],
 "metadata": {
  "kernelspec": {
   "display_name": "Python 3 (ipykernel)",
   "language": "python",
   "name": "python3"
  },
  "language_info": {
   "codemirror_mode": {
    "name": "ipython",
    "version": 3
   },
   "file_extension": ".py",
   "mimetype": "text/x-python",
   "name": "python",
   "nbconvert_exporter": "python",
   "pygments_lexer": "ipython3",
   "version": "3.9.13"
  }
 },
 "nbformat": 4,
 "nbformat_minor": 5
}
